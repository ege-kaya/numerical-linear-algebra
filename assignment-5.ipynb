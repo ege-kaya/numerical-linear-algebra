{
 "cells": [
  {
   "cell_type": "code",
   "execution_count": 16,
   "metadata": {
    "id": "R5YkbLMZ95yX"
   },
   "outputs": [],
   "source": [
    "import numpy as np\n",
    "import matplotlib.pyplot as plt\n",
    "import jax\n",
    "import jax.numpy as jnp\n",
    "import functools\n",
    "\n",
    "NUM_ITER = 10000\n",
    "LEARNING_RATE = .05"
   ]
  },
  {
   "cell_type": "markdown",
   "metadata": {
    "id": "9OP82r6395ye"
   },
   "source": [
    "# CMPE482 Spring 2021 - Assignment 5\n",
    "## Ege Can KAYA - 2018400018\n",
    "### Question 1\n",
    "\n",
    "We start by loading the Iris Dataset and putting it in the specified form."
   ]
  },
  {
   "cell_type": "code",
   "execution_count": 17,
   "metadata": {
    "id": "EOK5ZbC395yf"
   },
   "outputs": [],
   "source": [
    "iris = np.genfromtxt('iris.data', delimiter=',', dtype=\"|U15\", encoding='utf-8', skip_header=50)\n",
    "\n",
    "# setting the labels\n",
    "iris = np.where(iris == 'Iris-versicolor', 0, iris)\n",
    "iris = np.where(iris == 'Iris-virginica', 1, iris)\n",
    "\n",
    "A = np.matrix(iris[:,:4], dtype='float')\n",
    "y = np.matrix(iris[:, 4].reshape(100,1), dtype='int')"
   ]
  },
  {
   "cell_type": "markdown",
   "metadata": {
    "id": "d1VJ5atl95yf"
   },
   "source": [
    "**a.** We simply carry out the specified computations and we plot the Iris-versicolor with the color red and the Iris-virginica with the color green:"
   ]
  },
  {
   "cell_type": "code",
   "execution_count": 18,
   "metadata": {
    "colab": {
     "base_uri": "https://localhost:8080/",
     "height": 285
    },
    "id": "HR7JzuXJ95yg",
    "outputId": "a997be5c-d022-48d0-89a9-00e689003751"
   },
   "outputs": [
    {
     "data": {
      "text/plain": [
       "<matplotlib.legend.Legend at 0x7f1278f6da90>"
      ]
     },
     "execution_count": 18,
     "metadata": {},
     "output_type": "execute_result"
    },
    {
     "data": {
      "image/png": "[encoded data removed]",
      "text/plain": [
       "<Figure size 432x288 with 1 Axes>"
      ]
     },
     "metadata": {
      "needs_background": "light"
     },
     "output_type": "display_data"
    }
   ],
   "source": [
    "U, Sigma, Vt = np.linalg.svd(A)\n",
    "\n",
    "# padding Sigma with zeros and diagonalizing\n",
    "Sigma = np.pad(np.diag(Sigma), ((0,96), (0, 0)))\n",
    "\n",
    "C = U.dot(Sigma)\n",
    "X = C[:, :2]\n",
    "\n",
    "# first 50 are versicolor and last 50 are virginica\n",
    "plt.scatter([X[:50, 0]], [X[:50, 1]], color='r')\n",
    "plt.scatter([X[50:, 0]], [X[50:, 1]], color='g')\n",
    "plt.legend(['Iris-versicolor', 'Iris-virginica'])"
   ]
  },
  {
   "cell_type": "markdown",
   "metadata": {
    "id": "ubXiRTVf95yi"
   },
   "source": [
    "**b.** An easy way to find a basis for any vector space is to follow the Gram-Schmidt process (do a QR-factorization), which gives us not just any basis, but an orthonormal basis. By QR-factorizing the $C$ and $X$ matrices, we see that:"
   ]
  },
  {
   "cell_type": "code",
   "execution_count": 19,
   "metadata": {
    "colab": {
     "base_uri": "https://localhost:8080/"
    },
    "id": "GBfopQSk95yj",
    "outputId": "fe049633-dac1-44e2-cce4-48e5daee8697"
   },
   "outputs": [
    {
     "name": "stdout",
     "output_type": "stream",
     "text": [
      "Are Qx and the first two columns of Qc equal: True\n"
     ]
    }
   ],
   "source": [
    "Qx, R = np.linalg.qr(X)\n",
    "Qc, R1 = np.linalg.qr(C)\n",
    "\n",
    "print(\"Are Qx and the first two columns of Qc equal:\", np.array_equal(Qx, Qc[:, :2]))"
   ]
  },
  {
   "cell_type": "markdown",
   "metadata": {
    "id": "sgcF69a795yj"
   },
   "source": [
    "We observe that the obtained basis for $C$ is exactly the same as the first two columns of the obtained basis for $X$. Indeed, we are restricting our data to a plane, specifically, the plane which is spanned by the first two columns of the basis of $X$ obtained by a QR-factorization."
   ]
  },
  {
   "cell_type": "markdown",
   "metadata": {
    "id": "67iHK-sZ95yk"
   },
   "source": [
    "### Question 2\n",
    "\n",
    "**a.** We first make the following derivation:\n",
    "\n",
    "$$L(\\theta)=\\dfrac{1}{N}\\sum_{i=1}^N -y_i \\ln\\left(\\dfrac{1}{1+e^{-\\theta^Tx}}\\right) - (1-y_i) \\ln\\left(1 - \\dfrac{1}{1+e^{-\\theta^Tx}}\\right) \\\\ $$\n",
    "\n",
    "$$L(\\theta_1, \\theta_2) = \\dfrac{1}{N} \\sum_{i=1}^N -y_i \\ln\\left( \\dfrac{1}{1+e^{-(\\theta_1 x_{i_1}+\\theta_2 x_{i_2})}}\\right) - (1-y_i)\\ln\\left(1-\\dfrac{1}{1+e^{-(\\theta_1x_{i_1}+\\theta_2x_{i_2})}}\\right) \\\\ $$\n",
    "\n",
    "And then, using Wolfram Alpha to take the partial derivative, we find:\n",
    "\n",
    "$$\\nabla_{\\theta_i^{(k)}}L(\\theta^{(k)}) = \\dfrac{1}{N}\\sum_{j=1}^N \\dfrac{-y_j x_{j_i}e^{-\\theta^{(k)^T}x_j}+x_{j_i}(-y_j+1)}{1+e^{-\\theta^{(k)^T}x_j}} $$\n",
    "\n",
    "**b.** We define our model, our loss function, and then use the facilities of JAX and the wonders of matrix multiplication to train our algorithm for 10000 iterations with a learning rate $\\eta=.05$:"
   ]
  },
  {
   "cell_type": "code",
   "execution_count": 20,
   "metadata": {
    "colab": {
     "base_uri": "https://localhost:8080/",
     "height": 392
    },
    "id": "2ubUlKvT95yk",
    "outputId": "197a9455-42ea-442c-f297-d03e1f09006e"
   },
   "outputs": [
    {
     "name": "stdout",
     "output_type": "stream",
     "text": [
      "Model: logistic regression\n",
      "L and theta for iteration 10000 with learning_rate 0.050000 are:\n",
      "0.13006191 [[-0.04136017]\n",
      " [10.125258  ]]\n"
     ]
    }
   ],
   "source": [
    "# initializing theta\n",
    "np.random.seed(0)\n",
    "theta_init = np.random.randn(2)/10\n",
    "theta = theta_init.reshape(2, 1)\n",
    "\n",
    "# define our logistic regression model\n",
    "def model(theta, X):\n",
    "    a = jnp.matmul(X, theta)\n",
    "    return 1 / (1+jnp.exp(-a))\n",
    "\n",
    "# define our logistic loss function\n",
    "def loss(theta, y, X):\n",
    "    N = y.shape[0]\n",
    "    result = (-y*jnp.log(model(theta,X)) - (1 - y)*jnp.log(1 - model(theta, X))).sum()\n",
    "    return result/N\n",
    "\n",
    "# taking gradient is easy thanks to JAX!\n",
    "dloss = jax.value_and_grad(loss)\n",
    "\n",
    "# updating our theta with gradient descent mentality\n",
    "def _update(theta, dtheta, learning_rate):\n",
    "    return theta - learning_rate*dtheta\n",
    "\n",
    "update = functools.partial(_update, learning_rate=LEARNING_RATE)\n",
    "\n",
    "# train our model\n",
    "for e in range(NUM_ITER):\n",
    "    err, dtheta = dloss(theta, y, X)\n",
    "    theta = jax.tree_multimap(update, theta, dtheta)\n",
    "\n",
    "print('Model: logistic regression')\n",
    "print('L and theta for iteration %i with learning_rate %f are:' % (NUM_ITER,LEARNING_RATE))\n",
    "print(err, theta)"
   ]
  },
  {
   "cell_type": "markdown",
   "metadata": {
    "id": "FBLV8guR95yl"
   },
   "source": [
    "**c.** We find our estimation for $\\hat{y}$ using the $\\theta^{(10000)}$ found by our algorithm, then label all values which are lower than $0.5$ as $0$ and all values that are higher than $0.5$ as $1$. We then calculate our accuracy as the ratio of correctly labeled observations to the number of all observations:"
   ]
  },
  {
   "cell_type": "code",
   "execution_count": 21,
   "metadata": {
    "id": "3e-4UMU095ym"
   },
   "outputs": [
    {
     "name": "stdout",
     "output_type": "stream",
     "text": [
      "Accuracy =  0.96\n"
     ]
    }
   ],
   "source": [
    "# estimate y with our fully trained theta\n",
    "yhat_final = model(theta, X)\n",
    "yhat_final = np.array(yhat_final)\n",
    "\n",
    "# estimate the labels\n",
    "yhat_final[yhat_final < .5] = 0\n",
    "yhat_final[yhat_final > .5] = 1\n",
    "\n",
    "# cast dtype to integer to allow comparison to the actual y\n",
    "yhat_final = yhat_final.astype('int')\n",
    "\n",
    "num_correct = np.sum(y == yhat_final)\n",
    "print('Accuracy = ', num_correct/y.shape[0])"
   ]
  },
  {
   "cell_type": "markdown",
   "metadata": {
    "id": "UyxMB5qP95ym"
   },
   "source": [
    "**d.** Using `Code Snippet 2`, we get the following visualization for the decision boundary:"
   ]
  },
  {
   "cell_type": "code",
   "execution_count": 22,
   "metadata": {
    "id": "VgO20hIo95yp"
   },
   "outputs": [],
   "source": [
    "no_pts = 100\n",
    "x_1 = np.linspace(-11.5, -5, no_pts)\n",
    "x_2 = np.linspace(-1.5, 1.5, no_pts) \n",
    "x_1_grid, x_2_grid = np.meshgrid(x_1, x_2) \n",
    "p_grid = np.zeros((no_pts, no_pts))\n",
    "for i in range(no_pts):\n",
    "    for j in range(no_pts):\n",
    "        x_1 = x_1_grid[i, j]\n",
    "        x_2 = x_2_grid[i, j]\n",
    "        x = np.array([x_1, x_2])\n",
    "        p_grid[i, j] = model(theta, x)"
   ]
  },
  {
   "cell_type": "code",
   "execution_count": 23,
   "metadata": {
    "id": "OGTBSoyA95yq"
   },
   "outputs": [
    {
     "data": {
      "image/png": "[encoded data removed]",
      "text/plain": [
       "<Figure size 432x288 with 1 Axes>"
      ]
     },
     "metadata": {
      "needs_background": "light"
     },
     "output_type": "display_data"
    }
   ],
   "source": [
    "fig, ax = plt.subplots()\n",
    "ax.scatter([X[:50, 0]], [X[:50, 1]], color='r', s=10)\n",
    "ax.scatter([X[50:, 0]], [X[50:, 1]], color='g', s=10)\n",
    "plt.legend(['Iris-versicolor', 'Iris-virginica'])\n",
    "ax.contour(x_1_grid, x_2_grid, p_grid, levels=[.5]);"
   ]
  },
  {
   "cell_type": "markdown",
   "metadata": {
    "id": "MTwTgqel95yr"
   },
   "source": [
    "As can be seen, our model has correctly labeled $46$ of the red-colored points (those that fall below the line) and all $50$ of the green-colored points (since they all fall above the line). This results in $96$ correctly-labeled points out of $100$ in total, which explains the $.96$ accuracy."
   ]
  },
  {
   "cell_type": "markdown",
   "metadata": {
    "id": "bZwvsJlT95yr"
   },
   "source": [
    "### Question 3\n",
    "\n",
    "**a.** By writing out the $W_1$ matrix and the $w_2$ and $x$ vectors and explicitly carrying out the multiplications, we get the following expression for $\\hat{y}_i$:\n",
    "\n",
    "$$\\hat{y}_i  = \\sigma \\left[w_{2,1} \\sigma(W_{1,1,1}x_{i_1}+\\cdots+W_{1,1,d}x_{i_d})+\\cdots+w_{2,p}\\sigma(W_{1,p,1}x_{i_1}+\\cdots+W_{1,p,d}x_{i_d})\\right] $$\n",
    "\n",
    "Now, it is clear to see that each entry of $W_1$ and $w_2$ affects one and only one term in the summation inside the outermost sigmoid function. Thus we can derive:\n",
    "\n",
    "$$\\nabla_{W_{1,i,j}^{(k)}}L(W_1^{(k)},w_2^{(k)}) =  \\nabla_{W_{1,i,j}^{(k)}} \\dfrac{1}{N} \\sum_{l=1}^N -y_l \\ln \\left( \\sigma \\left[w_{2,i}^{(k)} \\sigma \\left( W_{1,i,j}^{(k)} x_{l_j} + c_{1_{i,j}}\\right) + c_{2_{i,j}}\\right]\\right) - (1-y_l)\\ln\\left(1-\\sigma \\left[w_{2,i}^{(k)} \\sigma \\left( W_{1,i,j}^{(k)} x_{l_j} + c_{1_{i,j}}\\right) + c_{2_{i,j}}\\right]\\right) \\\\ $$\n",
    "\n",
    "where $c_{1_{i,j}}$ and $c_{2_{i,j}}$ are constants with respect to $W_{1,i,j}^{(k)}$ but that **do** depend on the indices $i$ and $j$. (These are the other summands inside the inner sigmoid function and the outer sigmoid function, respectively). Using Wolfram Alpha to carry out the differentiation, we get:\n",
    "\n",
    "$$\\nabla_{W_{1,i,j}^{(k)}}L(W_1^{(k)},w_2^{(k)}) = \\dfrac{1}{N} \\sum_{l=1}^N -\\dfrac{w_{2,i}^{(k)}x_{l_j}e^{W_{1,i,j}^{(k)}x_{l_j}+c_{1_{i,j}}}\\left((y_l-1)e^{\\left(\\frac{w_{2,i}^{(k)}}{e^{-\\left(W_{1,i,j}^{(k)}x_{l_j}+c_{1_{i,j}}\\right)}+1}\\right)}+e^{c_{2_{i,j}}}y_l\\right)}{\\left(e^{W_{1,i,j}^{(k)}x_{l_j}+c_{1_{i,j}}}+1\\right)^2\\left(e^{\\left(\\frac{w_{2,i}^{(k)}}{e^{-\\left(W_{1,i,j}^{(k)}x_{l_j}+c_{1_{i,j}}\\right)}+1}\\right)}+e^{c_{2_{i,j}}}\\right)} \\\\ $$\n",
    "\n",
    "Similarly, we find that \n",
    "\n",
    "$$\\nabla_{w_{2,i}^{(k)}}L(W_1^{(k)},w_2^{(k)}) = \\sum_{l=1}^N -\\dfrac{e^{c_{1_{i,j}}+W_{1,i,j}^{(k)}x_{l_j}}\\left((y_l-1)e^{\\left(\\frac{w_{2,i}^{(k)}}{e^{-\\left(c_{1_{i,j}}+W_{1,i,j}^{(k)}x_{l_j}\\right)}+1}\\right)}+e^{c_{2_{i,j}}}y_l\\right)}{\\left(e^{c_{1_{i,j}}+W_{1,i,j}^{(k)}x_{l_j}}+1\\right)\\left(e^{\\left(\\frac{w_{2,i}^{(k)}}{e^{-\\left(c_{1_{i,j}}+W_{1,i,j}^{(k)}x_{l_j}\\right)}+1}\\right)}\\right)+e^{c_{2_{i,j}}}}$$\n",
    "\n",
    "**b.** We initialize the given values and following the example of the second question, adapt our model to the MLP model:"
   ]
  },
  {
   "cell_type": "code",
   "execution_count": 24,
   "metadata": {
    "id": "jg3MyaI395ys",
    "scrolled": true
   },
   "outputs": [
    {
     "name": "stdout",
     "output_type": "stream",
     "text": [
      "Model: MLP\n",
      "L, W_1 and w_2 for iteration 10000 with learning_rate 0.050000 are:\n",
      "0.10685914 [[-0.07165473  2.8668852 ]\n",
      " [ 0.07988009 -4.3705554 ]\n",
      " [ 0.07333824 -3.3181498 ]\n",
      " [ 0.07369473 -1.6843278 ]\n",
      " [-0.07660748  3.904757  ]] [[ 2.762995 ]\n",
      " [-5.2576528]\n",
      " [-4.0280356]\n",
      " [-2.3067045]\n",
      " [ 3.9499612]]\n"
     ]
    }
   ],
   "source": [
    "# initializing our W_1 and w_2\n",
    "W_1_init = np.random.randn(5, 2)/10 \n",
    "w_2_init = np.random.randn(5)/10\n",
    "W_1 = W_1_init\n",
    "w_2 = w_2_init.reshape((5,1))\n",
    "\n",
    "par = {\"W_1\": W_1, \"w_2\": w_2}\n",
    "\n",
    "# define our multilayer perceptron model\n",
    "def model_mlp(par, X):\n",
    "    W_1 = par[\"W_1\"]\n",
    "    w_2 = par[\"w_2\"]\n",
    "    a = jnp.matmul(X, W_1.T)\n",
    "    sig_1 = 1 / (1+jnp.exp(-a))\n",
    "    b = jnp.matmul(sig_1, w_2)\n",
    "    result = 1 / (1+jnp.exp(-b))\n",
    "    return result\n",
    "\n",
    "# define our logistic loss function (using the MLP model)\n",
    "def loss_mlp(par, y, X):\n",
    "    N = y.shape[0]\n",
    "    result = (-y*jnp.log(model_mlp(par, X)) - (1 - y)*jnp.log(1 - model_mlp(par, X))).sum()\n",
    "    return result/N\n",
    "\n",
    "# get the gradient\n",
    "dloss_mlp = jax.value_and_grad(loss_mlp)\n",
    "\n",
    "# update parameters by gradient descent\n",
    "def _update_mlp(par, dpar, learning_rate):\n",
    "    return par - learning_rate*dpar\n",
    "\n",
    "update_mlp = functools.partial(_update_mlp, learning_rate=LEARNING_RATE)\n",
    "\n",
    "# train our model\n",
    "for e in range(NUM_ITER):\n",
    "    err, dpar = dloss_mlp(par, y, X)\n",
    "    par = jax.tree_multimap(update_mlp, par, dpar)\n",
    "\n",
    "print('Model: MLP')\n",
    "print('L, W_1 and w_2 for iteration %i with learning_rate %f are:' % (NUM_ITER, LEARNING_RATE))\n",
    "print(err, par[\"W_1\"], par[\"w_2\"])"
   ]
  },
  {
   "cell_type": "markdown",
   "metadata": {
    "id": "sOukeTbn95ys"
   },
   "source": [
    "**c.** Similarly to the second question, we estimate our labels with a decision threshhold of $.5$ and see that an accuracy level of $.97$ is attained. This is to say that our model has correctly labeled $97$ out of the total $100$ observations."
   ]
  },
  {
   "cell_type": "code",
   "execution_count": 25,
   "metadata": {
    "id": "PpAyXLM695yt",
    "scrolled": true
   },
   "outputs": [
    {
     "name": "stdout",
     "output_type": "stream",
     "text": [
      "Accuracy =  0.97\n"
     ]
    }
   ],
   "source": [
    "# Estimate y\n",
    "yhat_mlp_final = model_mlp(par, X)\n",
    "yhat_mlp_final = np.array(yhat_mlp_final)\n",
    "# Estimate the labels\n",
    "yhat_mlp_final[yhat_mlp_final < .5] = 0\n",
    "yhat_mlp_final[yhat_mlp_final > .5] = 1\n",
    "\n",
    "\n",
    "# Cast dtype to integer to allow comparison to the actual y\n",
    "yhat_mlp_final = yhat_mlp_final.astype('int')\n",
    "\n",
    "\n",
    "num_correct = np.sum(y == yhat_mlp_final)\n",
    "print('Accuracy = ', num_correct/y.shape[0])"
   ]
  },
  {
   "cell_type": "markdown",
   "metadata": {
    "id": "4Tn1DbAb95yt"
   },
   "source": [
    "**d.** Again using `Code Snippet 2`, we visualize our decision boundary:"
   ]
  },
  {
   "cell_type": "code",
   "execution_count": 26,
   "metadata": {
    "id": "GfuhHQw195yu"
   },
   "outputs": [],
   "source": [
    "no_pts = 100\n",
    "x_1 = np.linspace(-11.5, -5, no_pts)\n",
    "x_2 = np.linspace(-1.5, 1.5, no_pts) \n",
    "x_1_grid, x_2_grid = np.meshgrid(x_1, x_2) \n",
    "p_grid = np.zeros((no_pts, no_pts))\n",
    "for i in range(no_pts):\n",
    "    for j in range(no_pts):\n",
    "        x_1 = x_1_grid[i, j]\n",
    "        x_2 = x_2_grid[i, j]\n",
    "        x = np.array([x_1, x_2])\n",
    "        p_grid[i, j] = model_mlp(par, x)"
   ]
  },
  {
   "cell_type": "code",
   "execution_count": 27,
   "metadata": {
    "id": "GWaasi0x95yu",
    "scrolled": true
   },
   "outputs": [
    {
     "data": {
      "image/png": "[encoded data removed]",
      "text/plain": [
       "<Figure size 432x288 with 1 Axes>"
      ]
     },
     "metadata": {
      "needs_background": "light"
     },
     "output_type": "display_data"
    }
   ],
   "source": [
    "fig, ax = plt.subplots()\n",
    "ax.scatter([X[:50, 0]], [X[:50, 1]], color='r', s=10)\n",
    "ax.scatter([X[50:, 0]], [X[50:, 1]], color='g', s=10)\n",
    "plt.legend(['Iris-versicolor', 'Iris-virginica'])\n",
    "ax.contour(x_1_grid, x_2_grid, p_grid, levels=[.5]);"
   ]
  },
  {
   "cell_type": "markdown",
   "metadata": {
    "id": "43guo54T95yv"
   },
   "source": [
    "We see that the results are very similar with the logistic regression model. In fact, we can view logistic regression as a single-layer perceptron (or vice-versa, we can say that a multilayer perceptron is just multiple layers of logistic regression chained back to back), so this similarity is maybe not that surprising. With a large number of iterations such as $10000$, it is well expected that both systems give similar, equally good results. In addition, both the logistic regression model and the multilayer perceptron model are linear models, so their decision boundaries are expected to be lines in 2-dimensional space, which is what we observe here. It is also important to note that our data is **very close** to being linearly separable, so both methods give similar, very accurate results."
   ]
  },
  {
   "cell_type": "markdown",
   "metadata": {
    "id": "p1jfuMN495yv"
   },
   "source": [
    "### Question 4\n",
    "**a.** If we choose too small a value for $\\eta$, it will take us many iterations to reach an optimum. On the other hand, if we choose too large a value, we might keep overshooting and maybe even end up with a configuration which never lets us get satisfactorily close to the optimum. I would say it is typical to try out a few values between $1$ and $10^{-6}$ and approach a good value by trial and error. It is a similar process for the selection of $K$ as well. Too small a $K$ may cause our algorithm to end before getting close enough to an optimum or too a large $K$ may cause many unnecessary operations that do not necessarily improve the result by much. In essence, my approach would be to train my model with some different values for $\\eta$ and $K$ and use it on a validation set to get a sense for what works better.\n",
    "\n",
    "**b.** A correct and smart way of doing this would be to train both models with an appropriately-sized training set (preferably larger than ours, a mere 100 observations), and then to test their performance on a validation set of **different** data to compare their respective accuracies. In fact, this is the essence of what we call generalization. It is generally not a smart idea to judge a model's accuracy by its performance on the data it was trained with, because of what we call **over-fitting**. A model which gets very well accustomed to its training data and gives amazing results may actually end up falling short of expectations when used on new data, which may be substantially different than the training data.\n",
    "\n",
    "**c.** Choosing the number of layers in the MLP is also a similar issue. We can train MLPs with different numbers of layers and test their accuracy performance on a validation test to see how they generalize and then make a decision for how many layers to use. In the special case of our problem, where we have data which is almost linearly separable, having a single layer suits our needs and additional layers do not really add much value."
   ]
  }
 ],
 "metadata": {
  "colab": {
   "collapsed_sections": [],
   "name": "2018400018_kaya_cmpe482_assignment_5.ipynb",
   "provenance": []
  },
  "kernelspec": {
   "display_name": "cmpe482",
   "language": "python",
   "name": "cmpe482"
  },
  "language_info": {
   "codemirror_mode": {
    "name": "ipython",
    "version": 3
   },
   "file_extension": ".py",
   "mimetype": "text/x-python",
   "name": "python",
   "nbconvert_exporter": "python",
   "pygments_lexer": "ipython3",
   "version": "3.8.5"
  }
 },
 "nbformat": 4,
 "nbformat_minor": 1
}
