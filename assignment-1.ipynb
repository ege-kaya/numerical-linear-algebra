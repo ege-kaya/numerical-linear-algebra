{
 "cells": [
  {
   "cell_type": "markdown",
   "id": "a33766c5",
   "metadata": {},
   "source": [
    "# CMPE482 Spring 2021 - Assignment 1\n",
    "## Ege Can KAYA - 2018400018\n",
    "### Question 1\n",
    "\n",
    "#### Implement the Gram-Schmidt algorithm."
   ]
  },
  {
   "cell_type": "code",
   "execution_count": 1,
   "id": "a1913f32",
   "metadata": {},
   "outputs": [],
   "source": [
    "import numpy as np\n",
    "\n",
    "\n",
    "def gram_schmidt(X):\n",
    "    matrix = X.copy()\n",
    "    dim = matrix.shape[0]\n",
    "\n",
    "    for i in range(dim):\n",
    "        col = matrix[:, i]\n",
    "\n",
    "        for j in range(0, i):\n",
    "            prev_col = matrix[:, j]\n",
    "            col = col - (np.inner(prev_col, col) * prev_col)\n",
    "        \n",
    "        # linear dependence check\n",
    "        if (col == np.zeros(dim)).all():\n",
    "            return\n",
    "\n",
    "        norm = np.linalg.norm(col)\n",
    "        matrix[:, i] = col / norm\n",
    "\n",
    "    return matrix"
   ]
  },
  {
   "cell_type": "markdown",
   "id": "41678ef5",
   "metadata": {},
   "source": [
    "#### Generate a $5\\times5$ matrix called $X$, where each element is drawn from the unit Gaussian distribution."
   ]
  },
  {
   "cell_type": "code",
   "execution_count": 2,
   "id": "2bef3e7c",
   "metadata": {},
   "outputs": [
    {
     "name": "stdout",
     "output_type": "stream",
     "text": [
      "X =  [[-0.91194566  0.98670355 -0.47308373 -2.26386805  0.51351931]\n",
      " [-0.30549204  1.08575122 -0.65437314 -1.13836092  0.88708524]\n",
      " [-0.27943408  0.971599    0.55943147  0.06107809  0.79512155]\n",
      " [ 1.53259791 -0.39237036 -0.07630688 -0.73387145  0.92989475]\n",
      " [ 0.27913483 -0.74661039 -1.42788158 -1.85538358 -0.44090776]]\n"
     ]
    }
   ],
   "source": [
    "X = np.random.normal(0, 1, (5, 5))\n",
    "print(\"X = \", X)"
   ]
  },
  {
   "cell_type": "markdown",
   "id": "d811cfa4",
   "metadata": {},
   "source": [
    "#### Use your Gram-Schmidt algorithm to obtain the decomposition $X = QR$ where $Q$ has orthonormal columns and $R$ is upper triangular."
   ]
  },
  {
   "cell_type": "code",
   "execution_count": 3,
   "id": "df385cbe",
   "metadata": {},
   "outputs": [
    {
     "name": "stdout",
     "output_type": "stream",
     "text": [
      "Q =  [[-0.49241684  0.24794067 -0.32496522 -0.73049495  0.23838166]\n",
      " [-0.16495438  0.58672332 -0.4842388   0.59297705  0.20600194]\n",
      " [-0.15088404  0.52231179  0.23658178 -0.08748206 -0.80050006]\n",
      " [ 0.82754604  0.42754113 -0.10654826 -0.32391727  0.12689051]\n",
      " [ 0.15072246 -0.37239782 -0.76979668 -0.04668881 -0.49379737]]\n",
      "R =  [[ 1.85197902e+00 -1.24880314e+00 -2.18744481e-02  4.06368278e-01\n",
      "   1.83910714e-01]\n",
      " [-4.55124462e-17  1.49943874e+00  2.90080627e-01 -8.20125504e-01\n",
      "   1.62485863e+00]\n",
      " [ 6.81873706e-17  1.85131694e-16  1.71026878e+00  2.80782770e+00\n",
      "  -1.67995074e-01]\n",
      " [ 4.42155053e-17  1.83475279e-17 -8.75561868e-19  1.29771831e+00\n",
      "  -1.99284447e-01]\n",
      " [-8.16512858e-17 -1.80241073e-18 -2.80116858e-17  7.21680816e-17\n",
      "   4.37391809e-03]]\n"
     ]
    }
   ],
   "source": [
    "Q = gram_schmidt(X)\n",
    "print(\"Q = \", Q)\n",
    "R = np.linalg.inv(Q) @ X\n",
    "print(\"R = \", R)"
   ]
  },
  {
   "cell_type": "markdown",
   "id": "2659cf26",
   "metadata": {},
   "source": [
    "#### Print out the following quantities to show that your algorithm works as intended:\n",
    "\n",
    "#### a. $Q^{T}Q$"
   ]
  },
  {
   "cell_type": "code",
   "execution_count": 5,
   "id": "98955dc9",
   "metadata": {},
   "outputs": [
    {
     "name": "stdout",
     "output_type": "stream",
     "text": [
      "[[ 1.00000000e+00 -5.76330878e-17  2.02803527e-17 -1.06619266e-16\n",
      "   2.70475894e-14]\n",
      " [-5.76330878e-17  1.00000000e+00  3.75054512e-17 -3.57557680e-17\n",
      "   1.43176801e-14]\n",
      " [ 2.02803527e-17  3.75054512e-17  1.00000000e+00 -3.47946542e-16\n",
      "  -8.79818002e-15]\n",
      " [-1.06619266e-16 -3.57557680e-17 -3.47946542e-16  1.00000000e+00\n",
      "  -5.04729148e-15]\n",
      " [ 2.70475894e-14  1.43176801e-14 -8.79818002e-15 -5.04729148e-15\n",
      "   1.00000000e+00]]\n",
      "Rounding out the very small terms to 0\n",
      "[[1. 0. 0. 0. 0.]\n",
      " [0. 1. 0. 0. 0.]\n",
      " [0. 0. 1. 0. 0.]\n",
      " [0. 0. 0. 1. 0.]\n",
      " [0. 0. 0. 0. 1.]]\n"
     ]
    }
   ],
   "source": [
    "epsilon = 1e-12\n",
    "A = np.transpose(Q) @ Q\n",
    "print(A)\n",
    "print(\"Rounding out the very small terms to 0\")\n",
    "A[np.abs(A) < epsilon] = 0\n",
    "print(A)"
   ]
  },
  {
   "cell_type": "markdown",
   "id": "fae5c9ad",
   "metadata": {},
   "source": [
    "#### b. $QQ^{T}$"
   ]
  },
  {
   "cell_type": "code",
   "execution_count": 6,
   "id": "899a3327",
   "metadata": {},
   "outputs": [
    {
     "name": "stdout",
     "output_type": "stream",
     "text": [
      "[[ 1.00000000e+00  6.25791098e-16  2.97782062e-15  6.96944046e-15\n",
      "   2.76959146e-15]\n",
      " [ 6.25791098e-16  1.00000000e+00 -3.89965440e-15  7.00523171e-15\n",
      "  -1.26359598e-15]\n",
      " [ 2.97782062e-15 -3.89965440e-15  1.00000000e+00 -2.46599316e-14\n",
      "  -5.40304936e-15]\n",
      " [ 6.96944046e-15  7.00523171e-15 -2.46599316e-14  1.00000000e+00\n",
      "  -1.47159830e-14]\n",
      " [ 2.76959146e-15 -1.26359598e-15 -5.40304936e-15 -1.47159830e-14\n",
      "   1.00000000e+00]]\n",
      "Rounding out the very small terms to 0\n",
      "[[1. 0. 0. 0. 0.]\n",
      " [0. 1. 0. 0. 0.]\n",
      " [0. 0. 1. 0. 0.]\n",
      " [0. 0. 0. 1. 0.]\n",
      " [0. 0. 0. 0. 1.]]\n"
     ]
    }
   ],
   "source": [
    "B = Q @ np.transpose(Q)\n",
    "print(B)\n",
    "print(\"Rounding out the very small terms to 0\")\n",
    "B[np.abs(B) < epsilon] = 0\n",
    "print(B)"
   ]
  },
  {
   "cell_type": "markdown",
   "id": "905e7bba",
   "metadata": {},
   "source": [
    "#### c. $R$"
   ]
  },
  {
   "cell_type": "code",
   "execution_count": 7,
   "id": "7fcdbf7e",
   "metadata": {},
   "outputs": [
    {
     "name": "stdout",
     "output_type": "stream",
     "text": [
      "[[ 1.85197902e+00 -1.24880314e+00 -2.18744481e-02  4.06368278e-01\n",
      "   1.83910714e-01]\n",
      " [-4.55124462e-17  1.49943874e+00  2.90080627e-01 -8.20125504e-01\n",
      "   1.62485863e+00]\n",
      " [ 6.81873706e-17  1.85131694e-16  1.71026878e+00  2.80782770e+00\n",
      "  -1.67995074e-01]\n",
      " [ 4.42155053e-17  1.83475279e-17 -8.75561868e-19  1.29771831e+00\n",
      "  -1.99284447e-01]\n",
      " [-8.16512858e-17 -1.80241073e-18 -2.80116858e-17  7.21680816e-17\n",
      "   4.37391809e-03]]\n",
      "Rounding out the very small terms to 0\n",
      "[[ 1.85197902 -1.24880314 -0.02187445  0.40636828  0.18391071]\n",
      " [ 0.          1.49943874  0.29008063 -0.8201255   1.62485863]\n",
      " [ 0.          0.          1.71026878  2.8078277  -0.16799507]\n",
      " [ 0.          0.          0.          1.29771831 -0.19928445]\n",
      " [ 0.          0.          0.          0.          0.00437392]]\n"
     ]
    }
   ],
   "source": [
    "epsilon = 1e-12\n",
    "R = np.linalg.inv(Q) @ X\n",
    "print(R)\n",
    "print(\"Rounding out the very small terms to 0\")\n",
    "R[np.abs(R) < epsilon] = 0\n",
    "print(R)"
   ]
  },
  {
   "cell_type": "markdown",
   "id": "3e10886d",
   "metadata": {},
   "source": [
    "#### D. $QR-X$"
   ]
  },
  {
   "cell_type": "code",
   "execution_count": 8,
   "id": "0d6ceb49",
   "metadata": {},
   "outputs": [
    {
     "name": "stdout",
     "output_type": "stream",
     "text": [
      "[[ 0.00000000e+00  1.11022302e-16  5.55111512e-17  0.00000000e+00\n",
      "   0.00000000e+00]\n",
      " [ 0.00000000e+00  2.22044605e-16  0.00000000e+00  0.00000000e+00\n",
      "   0.00000000e+00]\n",
      " [ 0.00000000e+00  1.11022302e-16 -2.22044605e-16 -1.80411242e-16\n",
      "   1.11022302e-16]\n",
      " [ 0.00000000e+00 -1.11022302e-16  4.16333634e-17  0.00000000e+00\n",
      "  -1.11022302e-16]\n",
      " [ 0.00000000e+00 -1.11022302e-16  2.22044605e-16  2.22044605e-16\n",
      "  -1.11022302e-16]]\n",
      "Rounding out the very small terms to 0\n",
      "[[0. 0. 0. 0. 0.]\n",
      " [0. 0. 0. 0. 0.]\n",
      " [0. 0. 0. 0. 0.]\n",
      " [0. 0. 0. 0. 0.]\n",
      " [0. 0. 0. 0. 0.]]\n"
     ]
    }
   ],
   "source": [
    "epsilon = 1e-12\n",
    "D = Q @ R - X\n",
    "print(D)\n",
    "print(\"Rounding out the very small terms to 0\")\n",
    "D[np.abs(D) < epsilon] = 0\n",
    "print(D)"
   ]
  },
  {
   "cell_type": "markdown",
   "id": "f526ac68",
   "metadata": {},
   "source": [
    "### Question 2\n",
    "#### Consider the matrix $Y = \\begin{bmatrix}\n",
    "1 & -4\\\\\n",
    "2 & 1\n",
    "\\end{bmatrix} $. Draw the columns of this matrix as two vectors in $\\mathbb{R}^2$."
   ]
  },
  {
   "cell_type": "code",
   "execution_count": 9,
   "id": "86dc4145",
   "metadata": {},
   "outputs": [
    {
     "data": {
      "image/png": "[encoded data removed]",
      "text/plain": [
       "<Figure size 432x288 with 1 Axes>"
      ]
     },
     "metadata": {
      "needs_background": "light"
     },
     "output_type": "display_data"
    }
   ],
   "source": [
    "import matplotlib.pyplot as plt\n",
    "\n",
    "def grid_setup():\n",
    "    major_ticks = np.arange(-5, 6)    \n",
    "    plt.xlim(-5, 5)\n",
    "    plt.ylim(-5, 5)\n",
    "    plt.grid(b=True, which='major')\n",
    "    plt.gca().set_aspect(\"equal\")\n",
    "    plt.gca().set_xticks(major_ticks)\n",
    "    plt.gca().set_yticks(major_ticks)\n",
    "    plt.show()\n",
    "\n",
    "origin = np.zeros([2, 2])\n",
    "Y = np.array([[1., -4.], [2., 1.]])\n",
    "plt.quiver(*origin, Y[:, 0], Y[:, 1], angles='xy', scale_units='xy', color=['b', 'b'], scale=1)\n",
    "grid_setup()"
   ]
  },
  {
   "cell_type": "markdown",
   "id": "75af4abb",
   "metadata": {},
   "source": [
    "#### Then compute the $QR$-decomposition of this matrix using the algorithm you developed in Q1 and plot the columns of the resulting $Q$ matrix in $\\mathbb{R}^2$."
   ]
  },
  {
   "cell_type": "code",
   "execution_count": 10,
   "id": "37030cd5",
   "metadata": {
    "scrolled": true
   },
   "outputs": [
    {
     "name": "stdout",
     "output_type": "stream",
     "text": [
      "Q =  [[ 0.4472136  -0.89442719]\n",
      " [ 0.89442719  0.4472136 ]]\n",
      "\n",
      "R =  [[ 2.23606798 -0.89442719]\n",
      " [ 0.          4.02492236]]\n"
     ]
    },
    {
     "data": {
      "image/png": "[encoded data removed]",
      "text/plain": [
       "<Figure size 432x288 with 1 Axes>"
      ]
     },
     "metadata": {
      "needs_background": "light"
     },
     "output_type": "display_data"
    }
   ],
   "source": [
    "Q = gram_schmidt(Y)\n",
    "R = np.linalg.inv(Q) @ Y\n",
    "print(\"Q = \", Q)\n",
    "print()\n",
    "print(\"R = \", R)\n",
    "plt.quiver(*origin, Q[:, 0], Q[:, 1], angles='xy', scale_units='xy', color=['g', 'g'], scale=1)\n",
    "grid_setup()"
   ]
  },
  {
   "cell_type": "markdown",
   "id": "54b9b3dc",
   "metadata": {},
   "source": [
    "### Question 3\n",
    "#### Let $H$ be a $200 \\times 200$ Hilbert matrix whose entries are given by the equation $$H_{ij} = \\dfrac{1}{i+j-1}$$ for $ 1 \\leq i,j\\leq 200$."
   ]
  },
  {
   "cell_type": "code",
   "execution_count": 24,
   "id": "3fb074c7",
   "metadata": {},
   "outputs": [
    {
     "name": "stdout",
     "output_type": "stream",
     "text": [
      "[[1.         0.5        0.33333333 ... 0.00505051 0.00502513 0.005     ]\n",
      " [0.5        0.33333333 0.25       ... 0.00502513 0.005      0.00497512]\n",
      " [0.33333333 0.25       0.2        ... 0.005      0.00497512 0.0049505 ]\n",
      " ...\n",
      " [0.00505051 0.00502513 0.005      ... 0.00253165 0.00252525 0.00251889]\n",
      " [0.00502513 0.005      0.00497512 ... 0.00252525 0.00251889 0.00251256]\n",
      " [0.005      0.00497512 0.0049505  ... 0.00251889 0.00251256 0.00250627]]\n"
     ]
    }
   ],
   "source": [
    "H = np.zeros([200, 200], dtype='float64')\n",
    "for i in range(200):\n",
    "    for j in range(200):\n",
    "        H[i, j] = 1./(i+j+1)\n",
    "print(H)"
   ]
  },
  {
   "cell_type": "markdown",
   "id": "8c0d44f4",
   "metadata": {},
   "source": [
    "#### Form a $200\\times 200$ matrix $X$ by using the equation $$X = 10^{-5}I+H.$$"
   ]
  },
  {
   "cell_type": "code",
   "execution_count": 25,
   "id": "14d1e708",
   "metadata": {},
   "outputs": [
    {
     "name": "stdout",
     "output_type": "stream",
     "text": [
      "[[1.00001    0.5        0.33333333 ... 0.00505051 0.00502513 0.005     ]\n",
      " [0.5        0.33334333 0.25       ... 0.00502513 0.005      0.00497512]\n",
      " [0.33333333 0.25       0.20001    ... 0.005      0.00497512 0.0049505 ]\n",
      " ...\n",
      " [0.00505051 0.00502513 0.005      ... 0.00254165 0.00252525 0.00251889]\n",
      " [0.00502513 0.005      0.00497512 ... 0.00252525 0.00252889 0.00251256]\n",
      " [0.005      0.00497512 0.0049505  ... 0.00251889 0.00251256 0.00251627]]\n"
     ]
    }
   ],
   "source": [
    "X = 1e-5 * np.eye(200, dtype='float64') + H\n",
    "print(X)"
   ]
  },
  {
   "cell_type": "markdown",
   "id": "d6032763",
   "metadata": {},
   "source": [
    "#### a. Compute the $QR$-decomposition of $X$ by using the Gram-Schmidt algorithm that you implemented in Q1."
   ]
  },
  {
   "cell_type": "code",
   "execution_count": 26,
   "id": "9db3c3fa",
   "metadata": {},
   "outputs": [
    {
     "name": "stdout",
     "output_type": "stream",
     "text": [
      "Q =  [[ 7.80884583e-01 -5.60666336e-01  2.53027291e-01 ... -1.49125628e-05\n",
      "  -1.47463673e-05 -1.45765801e-05]\n",
      " [ 3.90438387e-01  1.57426118e-01 -5.67513334e-01 ...  2.63875052e-04\n",
      "   2.58218834e-04  2.52572967e-04]\n",
      " [ 2.60292258e-01  2.50812673e-01 -3.60656439e-01 ... -6.23328939e-04\n",
      "  -5.96950652e-04 -5.70951160e-04]\n",
      " ...\n",
      " [ 3.94382209e-03  1.02985712e-02  1.69341181e-02 ...  9.79880682e-01\n",
      "  -4.56383096e-02 -4.41743754e-02]\n",
      " [ 3.92400389e-03  1.02474827e-02  1.68534961e-02 ...  6.48206070e-03\n",
      "   9.80264994e-01 -4.51114957e-02]\n",
      " [ 3.90438387e-03  1.01968985e-02  1.67736367e-02 ...  6.77590055e-03\n",
      "   6.71377594e-03  9.80647352e-01]]\n",
      "R =  [[ 1.28061179e+00  7.76999624e-01  5.81787443e-01 ...  2.05271309e-02\n",
      "   2.04334677e-02  2.03406710e-02]\n",
      " [ 5.23308587e-16  1.90393145e-01  2.25879353e-01 ...  2.83370132e-02\n",
      "   2.82178400e-02  2.80996895e-02]\n",
      " [ 1.39744456e-15  1.16775596e-15  2.23985233e-02 ...  2.55515342e-02\n",
      "   2.54556308e-02  2.53604586e-02]\n",
      " ...\n",
      " [ 5.95258440e-17  5.57626119e-17  5.42828408e-17 ...  1.02702160e-05\n",
      "   5.45977920e-07  5.58690483e-07]\n",
      " [-3.19773022e-17 -2.81700033e-17 -2.53203465e-17 ... -3.14496532e-18\n",
      "   1.02685911e-05  5.42663734e-07]\n",
      " [-5.76295282e-17 -5.16730723e-17 -4.75085409e-17 ... -8.25938129e-18\n",
      "  -9.57220631e-18  1.02669871e-05]]\n"
     ]
    }
   ],
   "source": [
    "Q = gram_schmidt(X)\n",
    "R = np.linalg.inv(Q) @ X\n",
    "print(\"Q = \", Q)\n",
    "print(\"R = \", R)"
   ]
  },
  {
   "cell_type": "markdown",
   "id": "3ac43625",
   "metadata": {},
   "source": [
    "#### b. Implement the modified Gram-Schmidt algorithm, and compute the $QR$- decomposition of $X$ again."
   ]
  },
  {
   "cell_type": "code",
   "execution_count": 27,
   "id": "d4e4b8e3",
   "metadata": {},
   "outputs": [
    {
     "name": "stdout",
     "output_type": "stream",
     "text": [
      "Q =  [[ 7.80884583e-01 -5.60666336e-01  2.53027291e-01 ... -1.49125628e-05\n",
      "  -1.47463673e-05 -1.45765801e-05]\n",
      " [ 3.90438387e-01  1.57426118e-01 -5.67513334e-01 ...  2.63875052e-04\n",
      "   2.58218834e-04  2.52572967e-04]\n",
      " [ 2.60292258e-01  2.50812673e-01 -3.60656439e-01 ... -6.23328939e-04\n",
      "  -5.96950652e-04 -5.70951160e-04]\n",
      " ...\n",
      " [ 3.94382209e-03  1.02985712e-02  1.69341181e-02 ...  9.79880682e-01\n",
      "  -4.56383096e-02 -4.41743754e-02]\n",
      " [ 3.92400389e-03  1.02474827e-02  1.68534961e-02 ...  6.48206070e-03\n",
      "   9.80264994e-01 -4.51114957e-02]\n",
      " [ 3.90438387e-03  1.01968985e-02  1.67736367e-02 ...  6.77590055e-03\n",
      "   6.71377594e-03  9.80647352e-01]]\n",
      "R =  [[1.28061179e+00 7.76999624e-01 5.81787443e-01 ... 2.05271309e-02\n",
      "  2.04334677e-02 2.03406710e-02]\n",
      " [0.00000000e+00 1.90393145e-01 2.25879353e-01 ... 2.83370132e-02\n",
      "  2.82178400e-02 2.80996895e-02]\n",
      " [0.00000000e+00 0.00000000e+00 2.23985233e-02 ... 2.55515342e-02\n",
      "  2.54556308e-02 2.53604586e-02]\n",
      " ...\n",
      " [0.00000000e+00 0.00000000e+00 0.00000000e+00 ... 1.02702160e-05\n",
      "  5.45977920e-07 5.58690483e-07]\n",
      " [0.00000000e+00 0.00000000e+00 0.00000000e+00 ... 0.00000000e+00\n",
      "  1.02685911e-05 5.42663734e-07]\n",
      " [0.00000000e+00 0.00000000e+00 0.00000000e+00 ... 0.00000000e+00\n",
      "  0.00000000e+00 1.02669871e-05]]\n"
     ]
    }
   ],
   "source": [
    "def modified_gram_schmidt(X):\n",
    "    Q = X.copy()\n",
    "    R = np.zeros_like(X)\n",
    "    n = X.shape[0]\n",
    "    \n",
    "    for i in range(n):\n",
    "        v = Q[:, i]\n",
    "        R[i, i] = np.linalg.norm(v)\n",
    "        q = v / R[i, i]\n",
    "        Q[:, i] = q\n",
    "        \n",
    "        for j in range(i + 1, n):\n",
    "            vj = Q[:, j]\n",
    "            R[i, j] = np.inner(q, vj)\n",
    "            Q[:, j] = vj - R[i, j] * q\n",
    "    return (Q, R)\n",
    "\n",
    "Q, R = modified_gram_schmidt(X)\n",
    "print(\"Q = \", Q)\n",
    "print(\"R = \", R)"
   ]
  },
  {
   "cell_type": "markdown",
   "id": "57770b43",
   "metadata": {},
   "source": [
    "#### c. Calculate an error matrix $E=I-Q^TQ$ for each decomposition."
   ]
  },
  {
   "cell_type": "code",
   "execution_count": 28,
   "id": "bcb451e5",
   "metadata": {},
   "outputs": [
    {
     "name": "stdout",
     "output_type": "stream",
     "text": [
      "Calculating E for the initial Gram-Schmidt algorithm:\n",
      "E0 =  [[ 1.11022302e-16  5.00725818e-17 -7.55846649e-15 ...  8.21977747e-14\n",
      "  -6.02540189e-13 -1.65365194e-13]\n",
      " [ 5.00725818e-17 -4.44089210e-16  1.88188279e-15 ... -1.83592282e-13\n",
      "  -6.06956723e-13  2.33396225e-13]\n",
      " [-7.55846649e-15  1.88188279e-15 -4.44089210e-16 ...  2.81352623e-13\n",
      "  -2.33470882e-13  2.12914632e-13]\n",
      " ...\n",
      " [ 8.21977747e-14 -1.83592282e-13  2.81352623e-13 ... -2.22044605e-16\n",
      "   1.16858990e-17  1.38777878e-17]\n",
      " [-6.02540189e-13 -6.06956723e-13 -2.33470882e-13 ...  1.16858990e-17\n",
      "   0.00000000e+00 -6.93889390e-18]\n",
      " [-1.65365194e-13  2.33396225e-13  2.12914632e-13 ...  1.38777878e-17\n",
      "  -6.93889390e-18 -2.22044605e-16]]\n"
     ]
    }
   ],
   "source": [
    "print(\"Calculating E for the initial Gram-Schmidt algorithm:\")\n",
    "Q = gram_schmidt(X)\n",
    "E0 = (np.eye(200, dtype='float64') - np.transpose(Q) @ Q)\n",
    "print(\"E0 = \", E0)"
   ]
  },
  {
   "cell_type": "code",
   "execution_count": 29,
   "id": "814339fc",
   "metadata": {},
   "outputs": [
    {
     "name": "stdout",
     "output_type": "stream",
     "text": [
      "Calculating E for the modified Gram-Schmidt algorithm:\n",
      "E1 =  [[ 1.11022302e-16  5.00725818e-17 -7.55846649e-15 ...  8.21977747e-14\n",
      "  -6.02540189e-13 -1.65365194e-13]\n",
      " [ 5.00725818e-17 -4.44089210e-16  1.88188279e-15 ... -1.83592282e-13\n",
      "  -6.06956723e-13  2.33396225e-13]\n",
      " [-7.55846649e-15  1.88188279e-15 -4.44089210e-16 ...  2.81352623e-13\n",
      "  -2.33470882e-13  2.12914632e-13]\n",
      " ...\n",
      " [ 8.21977747e-14 -1.83592282e-13  2.81352623e-13 ... -2.22044605e-16\n",
      "   1.16858990e-17  1.38777878e-17]\n",
      " [-6.02540189e-13 -6.06956723e-13 -2.33470882e-13 ...  1.16858990e-17\n",
      "   0.00000000e+00 -6.93889390e-18]\n",
      " [-1.65365194e-13  2.33396225e-13  2.12914632e-13 ...  1.38777878e-17\n",
      "  -6.93889390e-18 -2.22044605e-16]]\n"
     ]
    }
   ],
   "source": [
    "print(\"Calculating E for the modified Gram-Schmidt algorithm:\")\n",
    "Q, R = modified_gram_schmidt(X)\n",
    "E1 = (np.eye(200, dtype='float64') - np.transpose(Q) @ Q)\n",
    "print(\"E1 = \", E1)"
   ]
  },
  {
   "cell_type": "markdown",
   "id": "c9233200",
   "metadata": {},
   "source": [
    "#### Then, compare the performance of the algorithms by reporting the value of the largest entry (in absolute value) in these error matrices."
   ]
  },
  {
   "cell_type": "code",
   "execution_count": 30,
   "id": "07b790dc",
   "metadata": {},
   "outputs": [
    {
     "name": "stdout",
     "output_type": "stream",
     "text": [
      "Highest error in E0 is  9.48635294391397e-12\n",
      "Highest error in E1 is  9.48635294391397e-12\n",
      "The two algorithms worked equally good in terms of error\n"
     ]
    }
   ],
   "source": [
    "error0 = np.abs(np.amax(E0))\n",
    "error1 = np.abs(np.amax(E1))\n",
    "print(\"Highest error in E0 is \", error0)\n",
    "print(\"Highest error in E1 is \", error1)\n",
    "if error0 < error1:\n",
    "    print(\"Classical algorithm worked better\")\n",
    "elif error0 > error1:\n",
    "    print(\"Modified algorithm worked better\")\n",
    "else:\n",
    "    print(\"The two algorithms worked equally good in terms of error\")\n",
    "        "
   ]
  },
  {
   "cell_type": "markdown",
   "id": "3077e0f9",
   "metadata": {},
   "source": [
    "### Question 4\n",
    "#### Let $f(x)=x^2+2e^x$ defined in the range $x\\in (-2, 2)$. Plot the original function and 0th, 1st, 2nd and 3rd order Taylor approximations in this range, at $x_0=0.5$."
   ]
  },
  {
   "cell_type": "code",
   "execution_count": 31,
   "id": "f173fe7c",
   "metadata": {},
   "outputs": [
    {
     "name": "stderr",
     "output_type": "stream",
     "text": [
      "WARNING:absl:No GPU/TPU found, falling back to CPU. (Set TF_CPP_MIN_LOG_LEVEL=0 and rerun for more info.)\n"
     ]
    },
    {
     "name": "stdout",
     "output_type": "stream",
     "text": [
      "The original function:\n"
     ]
    },
    {
     "data": {
      "image/png": "[encoded data removed]",
      "text/plain": [
       "<Figure size 432x288 with 1 Axes>"
      ]
     },
     "metadata": {
      "needs_background": "light"
     },
     "output_type": "display_data"
    },
    {
     "name": "stdout",
     "output_type": "stream",
     "text": [
      "w/ 0th order Taylor approximation:\n"
     ]
    },
    {
     "data": {
      "image/png": "[encoded data removed]",
      "text/plain": [
       "<Figure size 432x288 with 1 Axes>"
      ]
     },
     "metadata": {
      "needs_background": "light"
     },
     "output_type": "display_data"
    },
    {
     "name": "stdout",
     "output_type": "stream",
     "text": [
      "w/ 1st order Taylor approximation:\n"
     ]
    },
    {
     "data": {
      "image/png": "[encoded data removed]",
      "text/plain": [
       "<Figure size 432x288 with 1 Axes>"
      ]
     },
     "metadata": {
      "needs_background": "light"
     },
     "output_type": "display_data"
    },
    {
     "name": "stdout",
     "output_type": "stream",
     "text": [
      "w/ 2nd order Taylor approximation:\n"
     ]
    },
    {
     "data": {
      "image/png": "[encoded data removed]",
      "text/plain": [
       "<Figure size 432x288 with 1 Axes>"
      ]
     },
     "metadata": {
      "needs_background": "light"
     },
     "output_type": "display_data"
    },
    {
     "name": "stdout",
     "output_type": "stream",
     "text": [
      "w/ 3rd order Taylor approximation:\n"
     ]
    },
    {
     "data": {
      "image/png": "[encoded data removed]",
      "text/plain": [
       "<Figure size 432x288 with 1 Axes>"
      ]
     },
     "metadata": {
      "needs_background": "light"
     },
     "output_type": "display_data"
    }
   ],
   "source": [
    "import jax.numpy as jnp\n",
    "from jax import grad\n",
    "\n",
    "# Setting up the axes\n",
    "def setup():\n",
    "    fig = plt.figure()\n",
    "    ax = fig.add_subplot(1, 1, 1)\n",
    "    ax.spines['left'].set_position('center')\n",
    "    ax.spines['bottom'].set_position('zero')\n",
    "    ax.spines['right'].set_color('none')\n",
    "    ax.spines['top'].set_color('none')\n",
    "    ax.xaxis.set_ticks_position('bottom')\n",
    "    ax.yaxis.set_ticks_position('left')\n",
    "\n",
    "def f(x):\n",
    "    return x ** 2 + 2 * jnp.exp(x)\n",
    "\n",
    "x0 = 0.5\n",
    "x = jnp.arange(-2, 2, 0.01)\n",
    "Df = grad(f)\n",
    "DDf = grad(Df)\n",
    "DDDf = grad(DDf)\n",
    "\n",
    "print(\"The original function:\")\n",
    "setup()\n",
    "plt.plot(x, f(x), 'r')\n",
    "plt.show()\n",
    "\n",
    "print(\"w/ 0th order Taylor approximation:\")\n",
    "taylor0 = f(x0) + 0 * x\n",
    "setup()\n",
    "plt.plot(x, f(x), 'r')\n",
    "plt.plot(x, taylor0, 'g')\n",
    "plt.show()\n",
    "\n",
    "print(\"w/ 1st order Taylor approximation:\")\n",
    "taylor1 = f(x0) + Df(x0) * (x - x0)\n",
    "setup()\n",
    "plt.plot(x, f(x), 'r')\n",
    "plt.plot(x, taylor1, 'g')\n",
    "plt.show()\n",
    "\n",
    "print(\"w/ 2nd order Taylor approximation:\")\n",
    "taylor2 = f(x0) + Df(x0) * (x - x0) + 0.5 * DDf(x0) * (x - x0) ** 2\n",
    "setup()\n",
    "plt.plot(x, f(x), 'r')\n",
    "plt.plot(x, taylor2, 'g')\n",
    "plt.show()\n",
    "\n",
    "print(\"w/ 3rd order Taylor approximation:\")\n",
    "taylor3 = f(x0) + Df(x0) * (x - x0) + 0.5 * DDf(x0) * (x - x0) ** 2 + (1/6) * DDDf(x0) * (x - x0) ** 3\n",
    "setup()\n",
    "plt.plot(x, f(x), 'r')\n",
    "plt.plot(x, taylor3, 'g')\n",
    "plt.show()"
   ]
  },
  {
   "cell_type": "markdown",
   "id": "43a4e30a",
   "metadata": {},
   "source": [
    "### Question 5\n",
    "#### Suppose we have real $n\\times n$ matrices $C, D, E,$ and $F$. Show how to compute the real $n\\times n$ matrices $A$ and $B$ with just three real $n\\times n$ matrix multiplications so that $$A+iB =(C+iD)(E+iF).$$"
   ]
  },
  {
   "cell_type": "markdown",
   "id": "1c7be55c",
   "metadata": {},
   "source": [
    "**Solution:** We carry out the following three matrix multiplications \n",
    " $$X = (C+D)(E-F)$$\n",
    " $$Y = CF$$\n",
    " $$Z = DE$$\n",
    "Then, we obtain the following representations for $A$ and $B$:\n",
    "$$A =CE-DF \\\\\n",
    "=CE-DF-CF+CF+DE-DE \\\\\n",
    "=(C+D)(E-F) +CF-DE\\\\\n",
    "= X + Y - Z $$\n",
    "\n",
    "$$B=CF+DE \\\\\n",
    "=Y+Z$$"
   ]
  },
  {
   "cell_type": "markdown",
   "id": "98b3e199",
   "metadata": {},
   "source": [
    "### Question 6\n",
    "#### The function $\\phi :\\mathbb{R}^3 \\to \\mathbb{R}$ satisfies $$\\phi(1, 1,0) = -1 \\\\ \\phi(-1, 1,1) = 1 \\\\ \\phi(1, -1,-1) = 1.\\\\ $$ Choose one of the following and justify your choice: $\\phi$ must be linear, $\\phi$ could be linear, $\\phi$ cannot be linear."
   ]
  },
  {
   "cell_type": "markdown",
   "id": "a1f08178",
   "metadata": {},
   "source": [
    "**Solution:** In order for $\\phi$ to be a linear function, it must uphold the superposition property, that is, the equation\n",
    "\n",
    "$$\\phi(\\alpha x+ \\beta y) = \\alpha \\phi(x) + \\beta \\phi(y) \\\\ $$\n",
    "must hold for all $x,y \\in \\mathbb{R}^3$ and $\\alpha, \\beta \\in \\mathbb{R}$. Notice now that\n",
    "\n",
    "$$\\phi(-1\\cdot(-1, 1, 1)) = \\phi (1, -1, -1) = 1 \\neq -1 \\cdot \\phi(-1, 1, 1) = -1 \\\\ $$\n",
    "\n",
    "This shows that the superposition property does not hold. Therefore, $\\phi$ cannot be a linear function."
   ]
  }
 ],
 "metadata": {
  "kernelspec": {
   "display_name": "cmpe482",
   "language": "python",
   "name": "cmpe482"
  },
  "language_info": {
   "codemirror_mode": {
    "name": "ipython",
    "version": 3
   },
   "file_extension": ".py",
   "mimetype": "text/x-python",
   "name": "python",
   "nbconvert_exporter": "python",
   "pygments_lexer": "ipython3",
   "version": "3.8.5"
  }
 },
 "nbformat": 4,
 "nbformat_minor": 5
}
